{
 "cells": [
  {
   "cell_type": "code",
   "execution_count": 15,
   "metadata": {},
   "outputs": [],
   "source": [
    "from bs4 import BeautifulSoup\n",
    "from splinter.browser import Browser\n",
    "import requests\n",
    "import time\n",
    "import pandas as pd\n",
    "from selenium import webdriver\n",
    "from selenium.webdriver.common.keys import Keys"
   ]
  },
  {
   "cell_type": "code",
   "execution_count": 16,
   "metadata": {},
   "outputs": [],
   "source": [
    "executable_path = {\"executable_path\": r\"C:\\Users\\Gabriel\\Desktop\\Classes_ASU\\U_of_A\\chromedriver.exe\"}\n",
    "browser = Browser(\"chrome\", **executable_path, headless=False)\n",
    "url1 = \"https://www.usnews.com/best-graduate-schools/top-law-schools/law-rankings/\"\n",
    "browser.visit(url1)"
   ]
  },
  {
   "cell_type": "code",
   "execution_count": 14,
   "metadata": {},
   "outputs": [
    {
     "ename": "NameError",
     "evalue": "name 'send_keys' is not defined",
     "output_type": "error",
     "traceback": [
      "\u001b[1;31m---------------------------------------------------------------------------\u001b[0m",
      "\u001b[1;31mNameError\u001b[0m                                 Traceback (most recent call last)",
      "\u001b[1;32m<ipython-input-14-db3b3a480034>\u001b[0m in \u001b[0;36m<module>\u001b[1;34m\u001b[0m\n\u001b[1;32m----> 1\u001b[1;33m \u001b[0msend_keys\u001b[0m\u001b[1;33m(\u001b[0m\u001b[0mKeys\u001b[0m\u001b[1;33m.\u001b[0m\u001b[0mEND\u001b[0m\u001b[1;33m)\u001b[0m\u001b[1;33m\u001b[0m\u001b[1;33m\u001b[0m\u001b[0m\n\u001b[0m\u001b[0;32m      2\u001b[0m \u001b[0mtime\u001b[0m\u001b[1;33m.\u001b[0m\u001b[0msleep\u001b[0m\u001b[1;33m(\u001b[0m\u001b[1;36m10\u001b[0m\u001b[1;33m)\u001b[0m\u001b[1;33m\u001b[0m\u001b[1;33m\u001b[0m\u001b[0m\n\u001b[0;32m      3\u001b[0m \u001b[0melm\u001b[0m\u001b[1;33m.\u001b[0m\u001b[0msend_keys\u001b[0m\u001b[1;33m(\u001b[0m\u001b[0mKeys\u001b[0m\u001b[1;33m.\u001b[0m\u001b[0mEND\u001b[0m\u001b[1;33m)\u001b[0m\u001b[1;33m\u001b[0m\u001b[1;33m\u001b[0m\u001b[0m\n",
      "\u001b[1;31mNameError\u001b[0m: name 'send_keys' is not defined"
     ]
    }
   ],
   "source": []
  },
  {
   "cell_type": "code",
   "execution_count": 6,
   "metadata": {},
   "outputs": [
    {
     "name": "stdout",
     "output_type": "stream",
     "text": [
      "Processing record 1 of 192.\n",
      "Processing record 2 of 192.\n",
      "Processing record 3 of 192.\n",
      "Processing record 4 of 192.\n",
      "Processing record 5 of 192.\n",
      "Processing record 6 of 192.\n",
      "Processing record 7 of 192.\n",
      "Processing record 8 of 192.\n",
      "Processing record 9 of 192.\n",
      "Processing record 10 of 192.\n",
      "Processing record 11 of 192.\n",
      "Processing record 12 of 192.\n",
      "Processing record 13 of 192.\n",
      "Processing record 14 of 192.\n",
      "Processing record 15 of 192.\n",
      "Processing record 16 of 192.\n",
      "Processing record 17 of 192.\n",
      "Processing record 18 of 192.\n",
      "Processing record 19 of 192.\n",
      "Processing record 20 of 192.\n",
      "Processing record 21 of 192.\n",
      "Processing record 22 of 192.\n",
      "Processing record 23 of 192.\n",
      "Processing record 24 of 192.\n",
      "Processing record 25 of 192.\n",
      "Processing record 26 of 192.\n",
      "Processing record 27 of 192.\n",
      "Processing record 28 of 192.\n",
      "Processing record 29 of 192.\n",
      "Processing record 30 of 192.\n",
      "Processing record 31 of 192.\n",
      "Processing record 32 of 192.\n",
      "Processing record 33 of 192.\n",
      "Processing record 34 of 192.\n",
      "Processing record 35 of 192.\n",
      "Processing record 36 of 192.\n",
      "Processing record 37 of 192.\n",
      "Processing record 38 of 192.\n",
      "Processing record 39 of 192.\n",
      "Processing record 40 of 192.\n",
      "Processing record 41 of 192.\n",
      "Processing record 42 of 192.\n",
      "Processing record 43 of 192.\n",
      "Processing record 44 of 192.\n",
      "Processing record 45 of 192.\n",
      "Processing record 46 of 192.\n",
      "Processing record 47 of 192.\n",
      "Processing record 48 of 192.\n",
      "Processing record 49 of 192.\n",
      "Processing record 50 of 192.\n",
      "['New Haven, CT', 'Stanford, CA', 'Cambridge, MA', 'Chicago, IL', 'New York, NY', 'New York, NY', 'Philadelphia, PA', 'Charlottesville, VA', 'Ann Arbor, MI', 'Durham, NC', 'Chicago, IL', 'Berkeley, CA', 'Ithaca, NY', 'Washington, DC', 'Los Angeles, CA', 'Austin, TX', 'Los Angeles, CA', 'Nashville, TN', 'St. Louis, MO', 'Minneapolis, MN', 'Notre Dame, IN', 'Washington, DC', 'Boston, MA', 'Irvine, CA', 'Tuscaloosa, AL', 'Atlanta, GA', 'Phoenix, AZ', 'Newton, MA', 'Athens, GA', 'Iowa City, IA', 'Davis, CA', 'Gainesville, FL', 'Winston-Salem, NC', 'Bloomington, IN', 'Columbus, OH', 'Chapel Hill, NC', 'Madison, WI', 'Lexington, VA', 'Provo, UT', 'New York, NY', 'Tucson, AZ', 'Champaign, IL', 'Williamsburg, VA', 'Seattle, WA', 'Arlington, VA', 'Boulder, CO', 'Salt Lake City, UT', 'Waco, TX', 'Tallahassee, FL', 'Philadelphia, PA']\n",
      "['New Haven, CT', 'Stanford, CA', 'Cambridge, MA', 'Chicago, IL', 'New York, NY', 'New York, NY', 'Philadelphia, PA', 'Charlottesville, VA', 'Ann Arbor, MI', 'Durham, NC', 'Chicago, IL', 'Berkeley, CA', 'Ithaca, NY', 'Washington, DC', 'Los Angeles, CA', 'Austin, TX', 'Los Angeles, CA', 'Nashville, TN', 'St. Louis, MO', 'Minneapolis, MN', 'Notre Dame, IN', 'Washington, DC', 'Boston, MA', 'Irvine, CA', 'Tuscaloosa, AL', 'Atlanta, GA', 'Phoenix, AZ', 'Newton, MA', 'Athens, GA', 'Iowa City, IA', 'Davis, CA', 'Gainesville, FL', 'Winston-Salem, NC', 'Bloomington, IN', 'Columbus, OH', 'Chapel Hill, NC', 'Madison, WI', 'Lexington, VA', 'Provo, UT', 'New York, NY', 'Tucson, AZ', 'Champaign, IL', 'Williamsburg, VA', 'Seattle, WA', 'Arlington, VA', 'Boulder, CO', 'Salt Lake City, UT', 'Waco, TX', 'Tallahassee, FL', 'Philadelphia, PA']\n",
      "['#1', '#2', '#3', '#4', '#5', '#6', '#7', '#8', '#9', '#10', '#10', '#10', '#13', '#14', '#15', '#16', '#17', '#18', '#18', '#20', '#21', '#22', '#23', '#23', '#25', '#26', '#27', '#27', '#27', '#27', '#31', '#31', '#31', '#34', '#34', '#34', '#34', '#34', '#39', '#39', '#39', '#39', '#39', '#44', '#45', '#45', '#47', '#48', '#48', '#48']\n"
     ]
    }
   ],
   "source": [
    "cities = []\n",
    "rankNumber = []\n",
    "universityName = []\n",
    "\n",
    "html = browser.html\n",
    "soup = BeautifulSoup(html, 'html.parser')\n",
    "\n",
    "j = 0\n",
    "\n",
    "\n",
    "for i in soup.findAll('div', attrs = {'class' : 's85n6m5-0-Box-cwadsP dlYdgX'}):\n",
    "    \n",
    "    time.sleep(1.5)\n",
    "    \n",
    "    target1 = i.find('p', attrs={'class' : 'Paragraph-fqygwe-0 bstttc'})\n",
    "    target2 = i.find('div', class_='ranked RankList__Rank-s1pe93t1-2 kLjgrx')\n",
    "    target3 = i.find('a', class_='Anchor-s1mkgztv-0 gPdGYK')\n",
    "    \n",
    "    universityName.append(target2.text)\n",
    "    cities.append(target1.text)\n",
    "    rankNumber.append(target3.text)\n",
    "    \n",
    "    j = j + 1\n",
    "\n",
    "    print (f'Processing record {j} of 192.')\n",
    "    \n",
    "    if j == 50:\n",
    "        break\n",
    "        \n",
    "print(cities)\n",
    "print(rankNumber)\n",
    "print(universityName)"
   ]
  },
  {
   "cell_type": "code",
   "execution_count": null,
   "metadata": {},
   "outputs": [],
   "source": [
    "rankNumber = []\n",
    "\n",
    "html = browser.html\n",
    "soup = BeautifulSoup(html, 'html.parser')\n",
    "cities = soup.find('h3', class_='sc-bdVaJa fmHOUD').text()\n",
    "\n",
    "i = 0\n",
    "\n",
    "for city in cities:\n",
    "    time.sleep(1.5)\n",
    "    i = i+1\n",
    "    target1 = soup.get_text()\n",
    "    rankNumber.append(target1)\n",
    "    print (f'Processing record {i} of 192.')\n",
    "    if i == 5:\n",
    "        break\n"
   ]
  },
  {
   "cell_type": "code",
   "execution_count": null,
   "metadata": {},
   "outputs": [],
   "source": [
    "rankNumber = []\n",
    "\n",
    "html = browser.html\n",
    "soup = BeautifulSoup(html, 'html.parser')\n",
    "cities = soup.find_all_previous('p', class_='Paragraph-fqygwe-0 bstttc').text()\n",
    "\n",
    "i = 0\n",
    "\n",
    "for city in cities:\n",
    "    time.sleep(1.5)\n",
    "    i = i+1\n",
    "    target1 = soup.get_text\n",
    "    rankNumber.append(target1)\n",
    "    print (f'Processing record {i} of 192.')\n",
    "    if i == 5:\n",
    "        break\n",
    "\n",
    "print(rankNumber)"
   ]
  },
  {
   "cell_type": "code",
   "execution_count": null,
   "metadata": {},
   "outputs": [],
   "source": [
    "rankNumber = []\n",
    "\n",
    "for i in range (192):\n",
    "    time.sleep(1)\n",
    "    html = browser.html\n",
    "    soup = BeautifulSoup(html, 'html.parser')\n",
    "    target = soup.find('p', class_='Paragraph-fqygwe-0 bstttc').text\n",
    "    rankNumber.append(target)\n",
    "    print (f'Processing record {i} of 192.')\n",
    "\n",
    "print(rankNumber)"
   ]
  },
  {
   "cell_type": "code",
   "execution_count": 12,
   "metadata": {},
   "outputs": [
    {
     "data": {
      "text/plain": [
       "str"
      ]
     },
     "execution_count": 12,
     "metadata": {},
     "output_type": "execute_result"
    }
   ],
   "source": [
    "type(Towns)\n",
    "\n",
    "html = browser.html\n",
    "soup = BeautifulSoup(html, 'html.parser')\n",
    "rankNumber = []\n",
    "universityName = []\n",
    "Towns = []\n",
    "rankNumber = soup.find_all('div', class_='ranked RankList__Rank-s1pe93t1-2 kLjgrx').text\n",
    "universityName = soup.find_all('a', class_='Anchor-s1mkgztv-0 gPdGYK').text\n",
    "Towns = soup.find_all('p', class_='Paragraph-fqygwe-0 bstttc').text\n",
    "print(rankNumber)"
   ]
  },
  {
   "cell_type": "code",
   "execution_count": null,
   "metadata": {},
   "outputs": [],
   "source": [
    "names = ('Universities', 'Cities', 'Classification')\n",
    "data = pd.DataFrame(columns = names)\n",
    "data"
   ]
  }
 ],
 "metadata": {
  "file_extension": ".py",
  "kernelspec": {
   "display_name": "Python 3",
   "language": "python",
   "name": "python3"
  },
  "language_info": {
   "codemirror_mode": {
    "name": "ipython",
    "version": 3
   },
   "file_extension": ".py",
   "mimetype": "text/x-python",
   "name": "python",
   "nbconvert_exporter": "python",
   "pygments_lexer": "ipython3",
   "version": "3.7.4"
  },
  "mimetype": "text/x-python",
  "name": "python",
  "npconvert_exporter": "python",
  "pygments_lexer": "ipython3",
  "version": 3
 },
 "nbformat": 4,
 "nbformat_minor": 2
}
